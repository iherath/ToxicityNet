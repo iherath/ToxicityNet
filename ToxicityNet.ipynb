{
  "nbformat": 4,
  "nbformat_minor": 0,
  "metadata": {
    "colab": {
      "name": "ToxicityNet.ipynb",
      "provenance": [],
      "collapsed_sections": []
    },
    "kernelspec": {
      "name": "python3",
      "display_name": "Python 3"
    }
  },
  "cells": [
    {
      "cell_type": "code",
      "metadata": {
        "id": "xoHmo8tz1tkJ",
        "colab_type": "code",
        "colab": {}
      },
      "source": [
        "# Install RDKit. Takes 2-3 minutes\n",
        "!wget -c https://repo.continuum.io/miniconda/Miniconda3-py37_4.8.3-Linux-x86_64.sh\n",
        "!chmod +x Miniconda3-py37_4.8.3-Linux-x86_64.sh\n",
        "!time bash ./Miniconda3-py37_4.8.3-Linux-x86_64.sh -b -f -p /usr/local\n",
        "!time conda install -q -y -c conda-forge rdkit\n",
        "\n",
        "!conda install -y -c deepchem -c conda-forge -c omnia deepchem-gpu=2.3.0\n",
        "\n",
        "import sys\n",
        "sys.path.append('/usr/local/lib/python3.7/site-packages/')\n",
        "\n",
        "import tensorflow as tf\n",
        "\n",
        "!git clone https://github.com/deepchem/deepchem.git\n",
        "%cd deepchem/\n",
        "!python setup.py install\n",
        "import deepchem as dc"
      ],
      "execution_count": null,
      "outputs": []
    },
    {
      "cell_type": "markdown",
      "metadata": {
        "id": "JDfI9py-AW8u",
        "colab_type": "text"
      },
      "source": [
        "# Loading Data\n"
      ]
    },
    {
      "cell_type": "code",
      "metadata": {
        "id": "dKAbSTht1zW-",
        "colab_type": "code",
        "colab": {}
      },
      "source": [
        "import numpy as np\n",
        "tox21_tasks, tox21_datasets, transformers = dc.molnet.load_tox21() #(featurizer='GraphConv', reload=False)\n",
        "dataset = tox21_datasets\n"
      ],
      "execution_count": null,
      "outputs": []
    },
    {
      "cell_type": "code",
      "metadata": {
        "id": "kqF_NuLFf6-a",
        "colab_type": "code",
        "colab": {}
      },
      "source": [
        "import numpy as np\n",
        "from google.colab import drive\n",
        "drive.mount('/content/drive')"
      ],
      "execution_count": null,
      "outputs": []
    },
    {
      "cell_type": "code",
      "metadata": {
        "id": "Jw8hYkCXgsk3",
        "colab_type": "code",
        "colab": {}
      },
      "source": [
        "%cd ../drive/My\\ Drive/Colab_Notebooks/DeepChem\n",
        "#%cd Colab_Notebooks/DeepChem/"
      ],
      "execution_count": null,
      "outputs": []
    },
    {
      "cell_type": "code",
      "metadata": {
        "id": "O7L0hlOFe5c2",
        "colab_type": "code",
        "colab": {}
      },
      "source": [
        "dataset_file = \"tox21.csv\"\n",
        "featurizer = dc.feat.CircularFingerprint(size=1024)\n",
        "loader = dc.data.CSVLoader(\n",
        "      tasks=tox21_tasks, smiles_field=\"smiles\",\n",
        "      featurizer=featurizer)\n",
        "dataset = loader.featurize(dataset_file)"
      ],
      "execution_count": null,
      "outputs": []
    },
    {
      "cell_type": "code",
      "metadata": {
        "id": "5lb68ug8Xfbx",
        "colab_type": "code",
        "colab": {}
      },
      "source": [
        "splitter = dc.splits.RandomSplitter()\n",
        "train_dataset, valid_dataset, test_dataset = splitter.train_valid_test_split(\n",
        "    dataset)"
      ],
      "execution_count": 9,
      "outputs": []
    },
    {
      "cell_type": "markdown",
      "metadata": {
        "id": "8vayB9G8AfB8",
        "colab_type": "text"
      },
      "source": [
        "# Creating and Training the Model"
      ]
    },
    {
      "cell_type": "code",
      "metadata": {
        "id": "QBtZkvbr-cEr",
        "colab_type": "code",
        "colab": {}
      },
      "source": [
        "import numpy as np\n",
        "import numpy.random\n",
        "import deepchem as dc\n",
        "np.random.seed(123)\n",
        "\n",
        "optimizer = dc.hyper.GridHyperparamOpt(\n",
        "    lambda **params: dc.models.MultitaskClassifier(n_tasks=12,\n",
        "                                                  n_features=1024, **params))\n",
        "\n",
        "#dropouts=[0.], weight_init_stddevs=[np.sqrt(6) / np.sqrt(1000)],learning_rate=0.003, \n",
        "\n",
        "params_dict = {\"batch_size\": [10, 20]}\n",
        "transformers = []\n",
        "metric = dc.metrics.Metric(\n",
        "    dc.metrics.roc_auc_score, task_averager=np.mean)\n",
        "\n",
        "best_model, best_hyperparams, all_results = optimizer.hyperparam_search(\n",
        "    params_dict,\n",
        "    train_dataset,\n",
        "    valid_dataset,\n",
        "    transformers,\n",
        "    metric,\n",
        "    use_max=False)\n",
        "\n",
        "valid_score = best_model.evaluate(valid_dataset, [metric])"
      ],
      "execution_count": 10,
      "outputs": []
    },
    {
      "cell_type": "code",
      "metadata": {
        "id": "wQWBlnlI48cm",
        "colab_type": "code",
        "colab": {
          "base_uri": "https://localhost:8080/",
          "height": 438
        },
        "outputId": "4e72a550-3454-4bc8-8652-c805688a960a"
      },
      "source": [
        "#model = dc.models.MultitaskClassifier(n_tasks = 12, n_features=1024, layer_sizes=[1000])\n",
        "\n",
        "num_epochs = 10\n",
        "losses = []\n",
        "for i in range(num_epochs):\n",
        " loss = best_model.fit(train_dataset, nb_epoch=1)\n",
        " print(\"Epoch %d loss: %f\" % (i, loss))\n",
        " losses.append(loss)\n",
        "\n",
        "import matplotlib.pyplot as plt\n",
        "plt.plot(losses)\n",
        "plt.ylabel('Loss')\n",
        "plt.show()"
      ],
      "execution_count": 12,
      "outputs": [
        {
          "output_type": "stream",
          "text": [
            "Epoch 0 loss: 0.057868\n",
            "Epoch 1 loss: 0.051289\n",
            "Epoch 2 loss: 0.041087\n",
            "Epoch 3 loss: 0.045939\n",
            "Epoch 4 loss: 0.046518\n",
            "Epoch 5 loss: 0.043015\n",
            "Epoch 6 loss: 0.032216\n",
            "Epoch 7 loss: 0.038398\n",
            "Epoch 8 loss: 0.007837\n",
            "Epoch 9 loss: 0.034018\n"
          ],
          "name": "stdout"
        },
        {
          "output_type": "display_data",
          "data": {
            "image/png": "[encoded data removed]",
            "text/plain": [
              "<Figure size 432x288 with 1 Axes>"
            ]
          },
          "metadata": {
            "tags": [],
            "needs_background": "light"
          }
        }
      ]
    },
    {
      "cell_type": "markdown",
      "metadata": {
        "id": "qKcys_5oAk5s",
        "colab_type": "text"
      },
      "source": [
        "# Evaluating the Model"
      ]
    },
    {
      "cell_type": "code",
      "metadata": {
        "id": "qq_XDlYy5A-p",
        "colab_type": "code",
        "colab": {
          "base_uri": "https://localhost:8080/",
          "height": 51
        },
        "outputId": "6ed95978-32ac-49a2-8715-e23418c0b023"
      },
      "source": [
        "import numpy as np\n",
        "#metric = dc.metrics.Metric(dc.metrics.roc_auc_score, np.mean)\n",
        "\n",
        "train_scores = best_model.evaluate(train_dataset, [metric], transformers)\n",
        "print(\"Training ROC AUC Score: %f\" % train_scores[\"mean-roc_auc_score\"])\n",
        "valid_scores = best_model.evaluate(valid_dataset, [metric], transformers)\n",
        "print(\"Validation ROC AUC Score: %f\" % valid_scores[\"mean-roc_auc_score\"])"
      ],
      "execution_count": 13,
      "outputs": [
        {
          "output_type": "stream",
          "text": [
            "Training ROC AUC Score: 0.994588\n",
            "Validation ROC AUC Score: 0.769029\n"
          ],
          "name": "stdout"
        }
      ]
    },
    {
      "cell_type": "markdown",
      "metadata": {
        "id": "pKWFM1ZsFTYy",
        "colab_type": "text"
      },
      "source": [
        "# LIME for interpretablity"
      ]
    },
    {
      "cell_type": "code",
      "metadata": {
        "id": "pROu1IixFR-3",
        "colab_type": "code",
        "colab": {}
      },
      "source": [
        "!pip install lime\n",
        "from lime import lime_tabular\n",
        "feature_names = [\"fp_%s\"  % x for x in range(1024)]\n",
        "explainer = lime_tabular.LimeTabularExplainer(train_dataset.X, \n",
        "                                              feature_names=feature_names, \n",
        "                                              categorical_features=feature_names,\n",
        "                                              class_names=['not toxic', 'toxic'], \n",
        "                                              )"
      ],
      "execution_count": null,
      "outputs": []
    },
    {
      "cell_type": "code",
      "metadata": {
        "id": "-kwagPurI81k",
        "colab_type": "code",
        "colab": {}
      },
      "source": [
        "# We need a function which takes a 2d numpy array (samples, features) and returns predictions (samples,)\n",
        "def eval_model(my_model):\n",
        "    def eval_closure(x):\n",
        "        ds = dc.data.NumpyDataset(x, n_tasks=12)\n",
        "        # The 0th task is NR-AR\n",
        "        predictions = my_model.predict(ds)[:,0]\n",
        "        return predictions\n",
        "    return eval_closure\n",
        "model_fn = eval_model(best_model)"
      ],
      "execution_count": 16,
      "outputs": []
    },
    {
      "cell_type": "markdown",
      "metadata": {
        "id": "NZdD9842Aoi3",
        "colab_type": "text"
      },
      "source": [
        "#Using the Model to predict Toxicities "
      ]
    },
    {
      "cell_type": "code",
      "metadata": {
        "id": "-_g7VYXqdqyD",
        "colab_type": "code",
        "colab": {}
      },
      "source": [
        "def show_predictions(numSamples):\n",
        "  for i in range(0,numSamples):\n",
        "    active_id = np.where(train_dataset.y[:,0]==1)[0][i]\n",
        "    print(active_id)\n",
        "    exp = explainer.explain_instance(train_dataset.X[active_id], model_fn, num_features=5, top_labels=1) \n",
        "    exp.show_in_notebook(show_table=True, show_all=False)\n",
        "    Chem.MolFromSmiles(train_dataset.ids[active_id])\n",
        "\n",
        "def show_samples(list): \n",
        "  if len(list) <= 15: \n",
        "    print('There are %d samples, showing all of them'% len(list))\n",
        "    show_predictions(len(list))\n",
        "  else:\n",
        "    print('There are %d samples, showing 15 of them'% len(list))\n",
        "    show_predictions(15)"
      ],
      "execution_count": 31,
      "outputs": []
    },
    {
      "cell_type": "code",
      "metadata": {
        "id": "EdKyEYmSivha",
        "colab_type": "code",
        "colab": {}
      },
      "source": [
        "# Imaging imports to get pictures in the notebook\n",
        "from rdkit import Chem\n",
        "from rdkit.Chem.Draw import IPythonConsole\n",
        "from IPython.display import SVG\n",
        "from rdkit.Chem import rdDepictor\n",
        "from rdkit.Chem.Draw import rdMolDraw2D\n",
        "\n",
        "# We want to investigate a toxic compound\n",
        "n = np.where(train_dataset.y[:,0]==1)[0]\n",
        "show_samples(n)"
      ],
      "execution_count": null,
      "outputs": []
    }
  ]
}